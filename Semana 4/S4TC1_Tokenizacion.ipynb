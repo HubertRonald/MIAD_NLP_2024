{
  "cells": [
    {
      "cell_type": "markdown",
      "metadata": {
        "id": "cTZdMfyTfjpa"
      },
      "source": [
        "![image info](https://raw.githubusercontent.com/albahnsen/MIAD_ML_and_NLP/main/images/banner_1.png)"
      ]
    },
    {
      "cell_type": "markdown",
      "metadata": {
        "id": "9V7ihrjAfjpc"
      },
      "source": [
        "# Taller: Tokenización de textos  \n",
        "\n",
        "En este taller podrán poner en práctica sus conocimientos sobre preprocesamiento de texto (tokenización). El taller está constituido por 5 puntos, en los cuales deberan seguir las intrucciones de cada numeral para su desarrollo."
      ]
    },
    {
      "cell_type": "markdown",
      "metadata": {
        "id": "fBdPTM5Gfjpd"
      },
      "source": [
        "## Datos detección de toxicidad en comentarios\n",
        "\n",
        "En este taller se usará el conjunto de datos de detección de toxicidad en comentarios de la base de datos de Kaggle. Cada observación es un comentario que tiene como variable objetivo (target) la probabilidad de ser un comentario tóxico. El objetivo es predecir la toxicidad de cada comentario. Para más detalles pueden visitar el siguiente enlace: [datos](https://www.kaggle.com/c/jigsaw-unintended-bias-in-toxicity-classification/data)."
      ]
    },
    {
      "cell_type": "code",
      "execution_count": null,
      "metadata": {
        "id": "GBkGJvvHfjpd"
      },
      "outputs": [],
      "source": [
        "import warnings\n",
        "warnings.filterwarnings('ignore')"
      ]
    },
    {
      "cell_type": "code",
      "execution_count": null,
      "metadata": {
        "id": "RtakI6SMfjpe"
      },
      "outputs": [],
      "source": [
        "# Importación librerías\n",
        "import pandas as pd\n",
        "import numpy as np\n",
        "import scipy as sp\n",
        "from sklearn.model_selection import train_test_split, cross_val_score\n",
        "from sklearn.feature_extraction.text import CountVectorizer, TfidfVectorizer\n",
        "from sklearn import metrics\n",
        "%matplotlib inline\n",
        "from xgboost import XGBRegressor\n",
        "from sklearn.metrics import mean_squared_error\n",
        "import matplotlib.pyplot as plt\n"
      ]
    },
    {
      "cell_type": "code",
      "execution_count": null,
      "metadata": {
        "colab": {
          "base_uri": "https://localhost:8080/",
          "height": 206
        },
        "id": "uDA71uKhfjpf",
        "outputId": "3ebde066-db9b-443d-80ea-5b4ad8c47adf"
      },
      "outputs": [
        {
          "data": {
            "application/vnd.google.colaboratory.intrinsic+json": {
              "type": "dataframe",
              "variable_name": "df"
            },
            "text/html": [
              "\n",
              "  <div id=\"df-22ec63a0-2f9d-4e3e-9334-d88b27f3553f\" class=\"colab-df-container\">\n",
              "    <div>\n",
              "<style scoped>\n",
              "    .dataframe tbody tr th:only-of-type {\n",
              "        vertical-align: middle;\n",
              "    }\n",
              "\n",
              "    .dataframe tbody tr th {\n",
              "        vertical-align: top;\n",
              "    }\n",
              "\n",
              "    .dataframe thead th {\n",
              "        text-align: right;\n",
              "    }\n",
              "</style>\n",
              "<table border=\"1\" class=\"dataframe\">\n",
              "  <thead>\n",
              "    <tr style=\"text-align: right;\">\n",
              "      <th></th>\n",
              "      <th>id</th>\n",
              "      <th>comment_text</th>\n",
              "      <th>target</th>\n",
              "    </tr>\n",
              "  </thead>\n",
              "  <tbody>\n",
              "    <tr>\n",
              "      <th>0</th>\n",
              "      <td>6101457</td>\n",
              "      <td>What are you talking about? What group do Pete...</td>\n",
              "      <td>0.0</td>\n",
              "    </tr>\n",
              "    <tr>\n",
              "      <th>1</th>\n",
              "      <td>5342103</td>\n",
              "      <td>NO!, Let him, we need a Conservative government.</td>\n",
              "      <td>0.0</td>\n",
              "    </tr>\n",
              "    <tr>\n",
              "      <th>2</th>\n",
              "      <td>743361</td>\n",
              "      <td>Perhaps he took the \"power out of the Cardinal...</td>\n",
              "      <td>0.2</td>\n",
              "    </tr>\n",
              "    <tr>\n",
              "      <th>3</th>\n",
              "      <td>551008</td>\n",
              "      <td>As always, yours is dripping with sarcasm, whi...</td>\n",
              "      <td>0.0</td>\n",
              "    </tr>\n",
              "    <tr>\n",
              "      <th>4</th>\n",
              "      <td>865998</td>\n",
              "      <td>The dirty little secret is that the price rang...</td>\n",
              "      <td>0.3</td>\n",
              "    </tr>\n",
              "  </tbody>\n",
              "</table>\n",
              "</div>\n",
              "    <div class=\"colab-df-buttons\">\n",
              "\n",
              "  <div class=\"colab-df-container\">\n",
              "    <button class=\"colab-df-convert\" onclick=\"convertToInteractive('df-22ec63a0-2f9d-4e3e-9334-d88b27f3553f')\"\n",
              "            title=\"Convert this dataframe to an interactive table.\"\n",
              "            style=\"display:none;\">\n",
              "\n",
              "  <svg xmlns=\"http://www.w3.org/2000/svg\" height=\"24px\" viewBox=\"0 -960 960 960\">\n",
              "    <path d=\"M120-120v-720h720v720H120Zm60-500h600v-160H180v160Zm220 220h160v-160H400v160Zm0 220h160v-160H400v160ZM180-400h160v-160H180v160Zm440 0h160v-160H620v160ZM180-180h160v-160H180v160Zm440 0h160v-160H620v160Z\"/>\n",
              "  </svg>\n",
              "    </button>\n",
              "\n",
              "  <style>\n",
              "    .colab-df-container {\n",
              "      display:flex;\n",
              "      gap: 12px;\n",
              "    }\n",
              "\n",
              "    .colab-df-convert {\n",
              "      background-color: #E8F0FE;\n",
              "      border: none;\n",
              "      border-radius: 50%;\n",
              "      cursor: pointer;\n",
              "      display: none;\n",
              "      fill: #1967D2;\n",
              "      height: 32px;\n",
              "      padding: 0 0 0 0;\n",
              "      width: 32px;\n",
              "    }\n",
              "\n",
              "    .colab-df-convert:hover {\n",
              "      background-color: #E2EBFA;\n",
              "      box-shadow: 0px 1px 2px rgba(60, 64, 67, 0.3), 0px 1px 3px 1px rgba(60, 64, 67, 0.15);\n",
              "      fill: #174EA6;\n",
              "    }\n",
              "\n",
              "    .colab-df-buttons div {\n",
              "      margin-bottom: 4px;\n",
              "    }\n",
              "\n",
              "    [theme=dark] .colab-df-convert {\n",
              "      background-color: #3B4455;\n",
              "      fill: #D2E3FC;\n",
              "    }\n",
              "\n",
              "    [theme=dark] .colab-df-convert:hover {\n",
              "      background-color: #434B5C;\n",
              "      box-shadow: 0px 1px 3px 1px rgba(0, 0, 0, 0.15);\n",
              "      filter: drop-shadow(0px 1px 2px rgba(0, 0, 0, 0.3));\n",
              "      fill: #FFFFFF;\n",
              "    }\n",
              "  </style>\n",
              "\n",
              "    <script>\n",
              "      const buttonEl =\n",
              "        document.querySelector('#df-22ec63a0-2f9d-4e3e-9334-d88b27f3553f button.colab-df-convert');\n",
              "      buttonEl.style.display =\n",
              "        google.colab.kernel.accessAllowed ? 'block' : 'none';\n",
              "\n",
              "      async function convertToInteractive(key) {\n",
              "        const element = document.querySelector('#df-22ec63a0-2f9d-4e3e-9334-d88b27f3553f');\n",
              "        const dataTable =\n",
              "          await google.colab.kernel.invokeFunction('convertToInteractive',\n",
              "                                                    [key], {});\n",
              "        if (!dataTable) return;\n",
              "\n",
              "        const docLinkHtml = 'Like what you see? Visit the ' +\n",
              "          '<a target=\"_blank\" href=https://colab.research.google.com/notebooks/data_table.ipynb>data table notebook</a>'\n",
              "          + ' to learn more about interactive tables.';\n",
              "        element.innerHTML = '';\n",
              "        dataTable['output_type'] = 'display_data';\n",
              "        await google.colab.output.renderOutput(dataTable, element);\n",
              "        const docLink = document.createElement('div');\n",
              "        docLink.innerHTML = docLinkHtml;\n",
              "        element.appendChild(docLink);\n",
              "      }\n",
              "    </script>\n",
              "  </div>\n",
              "\n",
              "\n",
              "<div id=\"df-e84d50bf-6498-4d43-b1fd-1e28f6877b4f\">\n",
              "  <button class=\"colab-df-quickchart\" onclick=\"quickchart('df-e84d50bf-6498-4d43-b1fd-1e28f6877b4f')\"\n",
              "            title=\"Suggest charts\"\n",
              "            style=\"display:none;\">\n",
              "\n",
              "<svg xmlns=\"http://www.w3.org/2000/svg\" height=\"24px\"viewBox=\"0 0 24 24\"\n",
              "     width=\"24px\">\n",
              "    <g>\n",
              "        <path d=\"M19 3H5c-1.1 0-2 .9-2 2v14c0 1.1.9 2 2 2h14c1.1 0 2-.9 2-2V5c0-1.1-.9-2-2-2zM9 17H7v-7h2v7zm4 0h-2V7h2v10zm4 0h-2v-4h2v4z\"/>\n",
              "    </g>\n",
              "</svg>\n",
              "  </button>\n",
              "\n",
              "<style>\n",
              "  .colab-df-quickchart {\n",
              "      --bg-color: #E8F0FE;\n",
              "      --fill-color: #1967D2;\n",
              "      --hover-bg-color: #E2EBFA;\n",
              "      --hover-fill-color: #174EA6;\n",
              "      --disabled-fill-color: #AAA;\n",
              "      --disabled-bg-color: #DDD;\n",
              "  }\n",
              "\n",
              "  [theme=dark] .colab-df-quickchart {\n",
              "      --bg-color: #3B4455;\n",
              "      --fill-color: #D2E3FC;\n",
              "      --hover-bg-color: #434B5C;\n",
              "      --hover-fill-color: #FFFFFF;\n",
              "      --disabled-bg-color: #3B4455;\n",
              "      --disabled-fill-color: #666;\n",
              "  }\n",
              "\n",
              "  .colab-df-quickchart {\n",
              "    background-color: var(--bg-color);\n",
              "    border: none;\n",
              "    border-radius: 50%;\n",
              "    cursor: pointer;\n",
              "    display: none;\n",
              "    fill: var(--fill-color);\n",
              "    height: 32px;\n",
              "    padding: 0;\n",
              "    width: 32px;\n",
              "  }\n",
              "\n",
              "  .colab-df-quickchart:hover {\n",
              "    background-color: var(--hover-bg-color);\n",
              "    box-shadow: 0 1px 2px rgba(60, 64, 67, 0.3), 0 1px 3px 1px rgba(60, 64, 67, 0.15);\n",
              "    fill: var(--button-hover-fill-color);\n",
              "  }\n",
              "\n",
              "  .colab-df-quickchart-complete:disabled,\n",
              "  .colab-df-quickchart-complete:disabled:hover {\n",
              "    background-color: var(--disabled-bg-color);\n",
              "    fill: var(--disabled-fill-color);\n",
              "    box-shadow: none;\n",
              "  }\n",
              "\n",
              "  .colab-df-spinner {\n",
              "    border: 2px solid var(--fill-color);\n",
              "    border-color: transparent;\n",
              "    border-bottom-color: var(--fill-color);\n",
              "    animation:\n",
              "      spin 1s steps(1) infinite;\n",
              "  }\n",
              "\n",
              "  @keyframes spin {\n",
              "    0% {\n",
              "      border-color: transparent;\n",
              "      border-bottom-color: var(--fill-color);\n",
              "      border-left-color: var(--fill-color);\n",
              "    }\n",
              "    20% {\n",
              "      border-color: transparent;\n",
              "      border-left-color: var(--fill-color);\n",
              "      border-top-color: var(--fill-color);\n",
              "    }\n",
              "    30% {\n",
              "      border-color: transparent;\n",
              "      border-left-color: var(--fill-color);\n",
              "      border-top-color: var(--fill-color);\n",
              "      border-right-color: var(--fill-color);\n",
              "    }\n",
              "    40% {\n",
              "      border-color: transparent;\n",
              "      border-right-color: var(--fill-color);\n",
              "      border-top-color: var(--fill-color);\n",
              "    }\n",
              "    60% {\n",
              "      border-color: transparent;\n",
              "      border-right-color: var(--fill-color);\n",
              "    }\n",
              "    80% {\n",
              "      border-color: transparent;\n",
              "      border-right-color: var(--fill-color);\n",
              "      border-bottom-color: var(--fill-color);\n",
              "    }\n",
              "    90% {\n",
              "      border-color: transparent;\n",
              "      border-bottom-color: var(--fill-color);\n",
              "    }\n",
              "  }\n",
              "</style>\n",
              "\n",
              "  <script>\n",
              "    async function quickchart(key) {\n",
              "      const quickchartButtonEl =\n",
              "        document.querySelector('#' + key + ' button');\n",
              "      quickchartButtonEl.disabled = true;  // To prevent multiple clicks.\n",
              "      quickchartButtonEl.classList.add('colab-df-spinner');\n",
              "      try {\n",
              "        const charts = await google.colab.kernel.invokeFunction(\n",
              "            'suggestCharts', [key], {});\n",
              "      } catch (error) {\n",
              "        console.error('Error during call to suggestCharts:', error);\n",
              "      }\n",
              "      quickchartButtonEl.classList.remove('colab-df-spinner');\n",
              "      quickchartButtonEl.classList.add('colab-df-quickchart-complete');\n",
              "    }\n",
              "    (() => {\n",
              "      let quickchartButtonEl =\n",
              "        document.querySelector('#df-e84d50bf-6498-4d43-b1fd-1e28f6877b4f button');\n",
              "      quickchartButtonEl.style.display =\n",
              "        google.colab.kernel.accessAllowed ? 'block' : 'none';\n",
              "    })();\n",
              "  </script>\n",
              "</div>\n",
              "\n",
              "    </div>\n",
              "  </div>\n"
            ],
            "text/plain": [
              "        id                                       comment_text  target\n",
              "0  6101457  What are you talking about? What group do Pete...     0.0\n",
              "1  5342103   NO!, Let him, we need a Conservative government.     0.0\n",
              "2   743361  Perhaps he took the \"power out of the Cardinal...     0.2\n",
              "3   551008  As always, yours is dripping with sarcasm, whi...     0.0\n",
              "4   865998  The dirty little secret is that the price rang...     0.3"
            ]
          },
          "execution_count": 3,
          "metadata": {},
          "output_type": "execute_result"
        }
      ],
      "source": [
        "# Carga de datos de archivos .csv\n",
        "df = pd.read_csv('https://raw.githubusercontent.com/albahnsen/MIAD_ML_and_NLP/main/datasets/Toxicity.zip')\n",
        "df = df[['id','comment_text', 'target']]\n",
        "df.head()"
      ]
    },
    {
      "cell_type": "code",
      "execution_count": null,
      "metadata": {
        "colab": {
          "base_uri": "https://localhost:8080/"
        },
        "id": "Q7oD1GyRfjpf",
        "outputId": "cb9c60cb-5652-4690-b6c5-f096eab4829d"
      },
      "outputs": [
        {
          "data": {
            "text/plain": [
              "(541462, 3)"
            ]
          },
          "execution_count": 4,
          "metadata": {},
          "output_type": "execute_result"
        }
      ],
      "source": [
        "df.shape"
      ]
    },
    {
      "cell_type": "code",
      "execution_count": null,
      "metadata": {
        "colab": {
          "base_uri": "https://localhost:8080/",
          "height": 448
        },
        "id": "7q6UpO0Kfjpf",
        "outputId": "333c346e-aa1e-4592-ebc4-ef96cba30931"
      },
      "outputs": [
        {
          "data": {
            "text/plain": [
              "<Axes: >"
            ]
          },
          "execution_count": 5,
          "metadata": {},
          "output_type": "execute_result"
        },
        {
          "data": {
            "image/png": "[encoded data removed]",
            "text/plain": [
              "<Figure size 640x480 with 1 Axes>"
            ]
          },
          "metadata": {},
          "output_type": "display_data"
        }
      ],
      "source": [
        "# Impresión histograma de variable de interés (y)\n",
        "df.target.hist()"
      ]
    },
    {
      "cell_type": "code",
      "execution_count": null,
      "metadata": {
        "colab": {
          "base_uri": "https://localhost:8080/"
        },
        "id": "ogBBig9Zfjpf",
        "outputId": "64af4a75-382b-4916-bf79-241a3d717ebd"
      },
      "outputs": [
        {
          "data": {
            "text/plain": [
              "count    541462.000000\n",
              "mean          0.102991\n",
              "std           0.196979\n",
              "min           0.000000\n",
              "25%           0.000000\n",
              "50%           0.000000\n",
              "75%           0.166667\n",
              "max           1.000000\n",
              "Name: target, dtype: float64"
            ]
          },
          "execution_count": 6,
          "metadata": {},
          "output_type": "execute_result"
        }
      ],
      "source": [
        "# Separación de variable de interés (y)\n",
        "y = df.target\n",
        "y.describe()"
      ]
    },
    {
      "cell_type": "code",
      "execution_count": null,
      "metadata": {
        "id": "5P7qBpdYfjpg"
      },
      "outputs": [],
      "source": [
        "# Separación de variables predictoras (X), solo se considera el texto de la noticia\n",
        "X = df.comment_text"
      ]
    },
    {
      "cell_type": "code",
      "execution_count": null,
      "metadata": {
        "id": "rmNLCp1Lfjpg"
      },
      "outputs": [],
      "source": [
        "# Separación de datos en set de entrenamiento y test\n",
        "X_train, X_test, y_train, y_test = train_test_split(X, y, test_size=0.33, random_state=42)"
      ]
    },
    {
      "cell_type": "markdown",
      "metadata": {
        "id": "fkTLUgu5fjpg"
      },
      "source": [
        "## Punto 1 - Tokenización con CountVectorizer\n",
        "\n",
        "En la celda 1 creen y entrenen el modelo de regresión de su preferencia, para que prediga la probabilidad de que un comentario sea tóxico, usando los set de entrenamiento y test definidos anteriormente. Usen la función **CountVectorizer** para preprocesar los comentarios y presenten el desempeño del modelo con la métrica del MSE.\n",
        "\n",
        "Recuerden que el preprocesamiento que se haga sobre los datos de entrenamiento  (*.fit_transform()*) deben ser aplicado al set de test (*.transform()*)."
      ]
    },
    {
      "cell_type": "code",
      "execution_count": null,
      "metadata": {
        "colab": {
          "base_uri": "https://localhost:8080/"
        },
        "id": "4qcs8H4Xfjpg",
        "outputId": "77390ca6-3e94-4351-abc6-c28548e932a2"
      },
      "outputs": [
        {
          "name": "stdout",
          "output_type": "stream",
          "text": [
            "Mean Squared Error (MSE): 0.020689791583810714\n"
          ]
        }
      ],
      "source": [
        "# Celda 1\n",
        "#Tokenizacion sin limpieza\n",
        "vect_1 = CountVectorizer()\n",
        "X_train_vectorized = vect_1.fit_transform(X_train)\n",
        "X_test_vectorized = vect_1.transform(X_test)\n",
        "\n",
        "xgb_model = XGBRegressor()\n",
        "xgb_model.fit(X_train_vectorized, y_train)\n",
        "\n",
        "# Predecir en el conjunto de prueba\n",
        "y_pred = xgb_model.predict(X_test_vectorized)\n",
        "\n",
        "# Calcular el MSE\n",
        "mse = mean_squared_error(y_test, y_pred)\n",
        "print(\"Mean Squared Error (MSE):\", mse)"
      ]
    },
    {
      "cell_type": "markdown",
      "metadata": {
        "id": "gZzUX7Gsfjpg"
      },
      "source": [
        "En este punto se creo una tokenizacion sin limpieza, para determinar con un modelo de regresion con XGBoost la probabilidad de que un comentario sea toxico. Utilizando esta metrica se encontro que el MSE para este caso era:\n",
        "\n",
        "**MSE:** 0.020689791583810714\n",
        "\n",
        "Por si solo no dice mucho pero es una metrica que mide el promedio de los cuadrados de las diferencias entre los valores predichos y los valores reales. Un MSE más bajo indica un mejor ajuste del modelo a los datos\n",
        "\n",
        "En este caso en promedio, el cuadrado de la diferencia entre las predicciones del modelo y los valores reales (para un conjunto de datos de prueba) es aproximadamente 0.0207."
      ]
    },
    {
      "cell_type": "markdown",
      "metadata": {
        "id": "mLwxkyskfjph"
      },
      "source": [
        "## Punto 2 - Tokenización con CountVectorizer y trigramas\n",
        "\n",
        "En la celda 2 creen y entrenen el mismo modelo de regresión del punto anterior (es decir si usaron un RandomForestRegresor usen nuevamente ese regresor), para que prediga la probabilidad de que un comentario sea tóxico, usando los set de entrenamiento y test definidos anteriormente. Usen la función CountVectorizer **considerando trigramas** para preprocesar los comentarios y presenten el desempeño del modelo con la métrica del MSE.\n",
        "\n",
        "Recuerden que el preprocesamiento que se haga sobre los datos de entrenamiento  (*.fit_transform()*) deben ser aplicado al set de test (*.transform()*)."
      ]
    },
    {
      "cell_type": "code",
      "execution_count": null,
      "metadata": {
        "colab": {
          "base_uri": "https://localhost:8080/"
        },
        "id": "dVRivicdfjph",
        "outputId": "92130e03-9429-422a-c369-4976afdd7517"
      },
      "outputs": [
        {
          "name": "stdout",
          "output_type": "stream",
          "text": [
            "Mean Squared Error (MSE): 0.036638869904255585\n"
          ]
        }
      ],
      "source": [
        "# Celda 2\n",
        "#Tokenizacion sin limpieza\n",
        "vect_1 = CountVectorizer(ngram_range=(3, 3))\n",
        "X_train_vectorized = vect_1.fit_transform(X_train)\n",
        "X_test_vectorized = vect_1.transform(X_test)\n",
        "\n",
        "xgb_model = XGBRegressor()\n",
        "xgb_model.fit(X_train_vectorized, y_train)\n",
        "\n",
        "# Predecir en el conjunto de prueba\n",
        "y_pred = xgb_model.predict(X_test_vectorized)\n",
        "\n",
        "# Calcular el MSE\n",
        "mse_tri = mean_squared_error(y_test, y_pred)\n",
        "print(\"Mean Squared Error (MSE):\", mse_tri)"
      ]
    },
    {
      "cell_type": "code",
      "execution_count": null,
      "metadata": {
        "colab": {
          "base_uri": "https://localhost:8080/"
        },
        "id": "aWiZKG9K9-TF",
        "outputId": "fdeeef9c-9a46-4b4a-abae-dac65c4e657a"
      },
      "outputs": [
        {
          "data": {
            "text/plain": [
              "0.01594907832044487"
            ]
          },
          "execution_count": 1,
          "metadata": {},
          "output_type": "execute_result"
        }
      ],
      "source": [
        "0.036638869904255585-0.020689791583810714"
      ]
    },
    {
      "cell_type": "markdown",
      "metadata": {
        "id": "0x2MreYffjph"
      },
      "source": [
        "Ahora utlizando el mismo regresor, pero usando ahora un CountVectorizer considerando trigramas, es decir tomando hasta 3 tokens para capturar patrones o contextos mas dicilies de ver utilizando solo palabras individuales o bigramas, esto agrega un grado de complejidad al problema y tambien mas tiempo de procesamiento para realizarse, (en este caso tomo mas de 40 minutos en procesar)\n",
        "\n",
        "En este caso el MSE fue mayor, paso a:\n",
        "\n",
        "**MSE:**  0.036638869904255585\n",
        "\n",
        "Una diferencia de tan solo 0.0159 pero que de igual manera empeora\n",
        "\n",
        "En este caso en promedio, el cuadrado de la diferencia entre las predicciones del modelo y los valores reales (para un conjunto de datos de prueba) es aproximadamente 0.0366."
      ]
    },
    {
      "cell_type": "markdown",
      "metadata": {
        "id": "d-S8l-_ffjph"
      },
      "source": [
        "## Punto 3 - TfidfVectorizer\n",
        "\n",
        "Investigen sobre la función TfidfVectorizer. En la celda de texto 3, expliquen en qué consiste esta técnica de tokenización (describanla y expliquen su funcionamiento) y cúales son las ventajas o deventajas de su uso al compararlo con la función CountVectorizer."
      ]
    },
    {
      "cell_type": "code",
      "execution_count": null,
      "metadata": {},
      "outputs": [],
      "source": [
        "# Celda 3\n"
      ]
    },
    {
      "cell_type": "markdown",
      "metadata": {
        "id": "g5yVsF32fjph"
      },
      "source": [
        "El TfidVectorizer o Term Frequency Inverse Document Frequency, es un algoritmo de transformacion de texto en una representacion con numeros. Usa una transformacion con frecuencias con respecto a un inidce de vocabulario y mide la originalidad de una palabra comparandola con el numero de veces que aparece en el documento o texto dandole asi una ponderacion. Este vectorizador pondera los terminos segun su importancia en el documento, a diferencia de CountVectorizer que simplemente cuenta la frecuencia.\n",
        "\n",
        "Se puede ver como funciona separando las componentes de su formula:\n",
        "\n",
        "Term Frequency (TF): : Es una medida de la frecuencia con la que aparece un término (o palabra) en un documento.\n",
        "\n",
        "TF = Numero de repeticiones de la palabra en el documento/Numero total de palabras en el documento\n",
        "\n",
        "Inverse Document Frequency (IDF):  Es una medida de cuán importante es un término en un conjunto de documentos.  Se calcula tomando el logaritmo del cociente entre el número total de documentos y el número de documentos que contienen el término de interés, y luego se agrega 1 al denominador para evitar divisiones por cero.\n",
        "\n",
        "$$\\text{IDF} = \\log\\left(\\frac{\\text{1 + Número total de documentos}}{\\text{1 + Número de documentos que contienen el término}}\\right) + 1 $$\n",
        "\n",
        "\n",
        "CountVectorizer es un metodo más simple que puede tener un buen desempeño en algunas aplicacciones pero a su vez puede no ser tan efectivo como el metodo de TfidfVectorizer cuando se trata de capturar la informacion mas importante en un texto. TfidfVectorizer es mejor que Count Vectorizer porque no solamente se enfoca en la frecuencia de las palabras en el (corpus) si que tambien calcula la importancia de las palabras. Por lo tanto se podrian eliminar las palabras menos importantes para el analisis, lo que hace menos compleja la construcción del modelo al reducir las dimensiones de entrada."
      ]
    },
    {
      "cell_type": "markdown",
      "metadata": {
        "id": "ikS5CoUUfjph"
      },
      "source": [
        "#### **Informacion recuperada de:**\n",
        "Explicacion:\n",
        "\n",
        "https://medium.com/@cmukesh8688/tf-idf-vectorizer-scikit-learn-dbc0244a911a\n",
        "\n",
        "Scikit learn:\n",
        "\n",
        " https://scikit-learn.org/stable/modules/generated/sklearn.feature_extraction.text.TfidfVectorizer.html\n",
        "\n",
        " Kaggle:\n",
        "\n",
        " https://www.kaggle.com/code/zeeshanlatif/countvectorizer-vs-tfidfvectorizer"
      ]
    },
    {
      "cell_type": "markdown",
      "metadata": {
        "id": "5-5S1U2ofjph"
      },
      "source": [
        "## Punto 4 - Tokenización con TfidfVectorizer\n",
        "\n",
        "En la celda 4 creen y entrenen el mismo modelo de regresión del primer punto, para que prediga la probabilidad de que un comentario sea tóxico, usando los set de entrenamiento y test definidos anteriormente. Procesen los comentarios con la función **TfidfVectorizer** y presenten el desempeño del modelo con la métrica del MSE.\n",
        "\n",
        "Recuerden que el preprocesamiento que se haga sobre los datos de entrenamiento  (*.fit_transform()*) deben ser aplicado al set de test (*.transform()*)."
      ]
    },
    {
      "cell_type": "code",
      "execution_count": null,
      "metadata": {
        "colab": {
          "base_uri": "https://localhost:8080/"
        },
        "id": "0bNDDuJUfjpi",
        "outputId": "d3c8d0e2-c484-453f-e31c-efe7ad81923d"
      },
      "outputs": [
        {
          "name": "stdout",
          "output_type": "stream",
          "text": [
            "Mean Squared Error (MSE): 0.020335956149285114\n"
          ]
        }
      ],
      "source": [
        "# Celda 4\n",
        "vect_2 = TfidfVectorizer()\n",
        "X_train_Tfidf = vect_2.fit_transform(X_train)\n",
        "X_test_Tfidf = vect_2.transform(X_test)\n",
        "\n",
        "xgb_model_Tfidf = XGBRegressor()\n",
        "xgb_model_Tfidf.fit(X_train_Tfidf, y_train)\n",
        "\n",
        "# Predecir en el conjunto de prueba\n",
        "y_pred_Tfidf = xgb_model_Tfidf.predict(X_test_Tfidf)\n",
        "\n",
        "# Calcular el MSE\n",
        "mse_Tfidf = mean_squared_error(y_test, y_pred_Tfidf)\n",
        "print(\"Mean Squared Error (MSE):\", mse_Tfidf)"
      ]
    },
    {
      "cell_type": "markdown",
      "metadata": {
        "id": "VhiZxJcEfO57"
      },
      "source": [
        "Usando tokenizacion con TfidfVectorizer se puede ver que se obtiene un mejor MSE que con CountVectorizer, pasa de un MSE de 0.02068 a 0.02033 por lo mencionado anteriormente CountVectorizer es un metodo más simple que puede tener un buen desempeño en algunas aplicacciones pero a su vez puede no ser tan efectivo como el metodo de TfidfVectorizer cuando se trata de capturar la informacion mas importante en un texto. TfidfVectorizer es mejor que Count Vectorizer porque no solamente se enfoca en la frecuencia de las palabras en el (corpus) si que tambien calcula la importancia de las palabras.\n",
        "\n",
        "En este caso en promedio, el cuadrado de la diferencia entre las predicciones del modelo y los valores reales (para un conjunto de datos de prueba) es aproximadamente 0.02033."
      ]
    },
    {
      "cell_type": "markdown",
      "metadata": {
        "id": "KNW2dADIfjpi"
      },
      "source": [
        "## Punto 5 - Comparación y análisis de resultados\n",
        "\n",
        "En la celda 5 comparen los resultados obtenidos de los diferentes modelos y comenten cómo el preprocesamiento de texto afecta el desempeño."
      ]
    },
    {
      "cell_type": "code",
      "execution_count": null,
      "metadata": {
        "id": "S5qXpURifjpi"
      },
      "outputs": [],
      "source": [
        "# Celda 5\n",
        "def plot_barh(df, title, xlabel, asc=False):\n",
        "  ax = (\n",
        "      df\n",
        "      .sort_values(by='ejeY', ascending=asc)\n",
        "      .plot(\n",
        "          kind='barh', y='ejeY', x='ejeX', color='dodgerblue',\n",
        "          title=title,\n",
        "          xlabel=xlabel,\n",
        "          ylabel=''\n",
        "      )\n",
        "  )\n",
        "  ax.bar_label(ax.containers[0])\n",
        "  plt.show()\n",
        "\n",
        "ejeX = ['CountVectorizer', 'CountVectorizer y trigramas','TfidfVectorizer', ]"
      ]
    },
    {
      "cell_type": "code",
      "execution_count": null,
      "metadata": {
        "id": "7TaFvEXF2n-z"
      },
      "outputs": [],
      "source": [
        "#mse = 0.020689791583810714\n",
        "#mse_tri=0.020677312051006345"
      ]
    },
    {
      "cell_type": "code",
      "execution_count": null,
      "metadata": {
        "colab": {
          "base_uri": "https://localhost:8080/",
          "height": 472
        },
        "id": "aE7Mzrkq2Hdw",
        "outputId": "1aa6fc86-b941-49e9-e513-b89c10888e1b"
      },
      "outputs": [
        {
          "data": {
            "image/png": "[encoded data removed]",
            "text/plain": [
              "<Figure size 640x480 with 1 Axes>"
            ]
          },
          "metadata": {},
          "output_type": "display_data"
        }
      ],
      "source": [
        "plot_barh(\n",
        "    df=pd.DataFrame({'ejeX': ejeX, 'ejeY': [mse,mse_tri, mse_Tfidf]}),\n",
        "    title='Comparación de modelos MSE',\n",
        "    xlabel='MSE'\n",
        ")"
      ]
    },
    {
      "cell_type": "code",
      "execution_count": null,
      "metadata": {
        "colab": {
          "base_uri": "https://localhost:8080/",
          "height": 472
        },
        "id": "J8KoYr_DtLTj",
        "outputId": "47195460-2149-4aae-ff27-fb2f4b72b7c6"
      },
      "outputs": [
        {
          "data": {
            "image/png": "[encoded data removed]",
            "text/plain": [
              "<Figure size 640x480 with 1 Axes>"
            ]
          },
          "metadata": {},
          "output_type": "display_data"
        }
      ],
      "source": [
        "plot_barh(\n",
        "    df=pd.DataFrame({'ejeX': ejeX, 'ejeY': [mse**1/2,mse_tri**1/2, mse_Tfidf**1/2]}),\n",
        "    title='Comparación de modelos RMSE',\n",
        "    xlabel='RMSE'\n",
        ")"
      ]
    },
    {
      "cell_type": "markdown",
      "metadata": {
        "id": "X9DcVlt2gGDN"
      },
      "source": [
        "Se puede ver que el mejor modelo fue el que uso el TF-IDF pues este pondera las palabras según su frecuencia en el documento y en el corpus completo. Esto significa que las palabras más frecuentes en el documento, pero menos frecuentes en el corpus, tendrán una mayor ponderación. Por otro lado, CountVectorizer simplemente cuenta el número de ocurrencias de cada palabra, sin considerar la importancia relativa de las palabras. En este caso, TF-IDF podría estar dando más peso a las características más relevantes, lo que resulta en un mejor rendimiento.\n",
        "\n",
        "Cuando comparamos CountVectorizer vs CountVectorizer con Trigram podemos ver que la elección de utilizar unigramas (una sola palabra), bigramas (pares de palabras consecutivas) o trigramas (conjuntos de tres palabras consecutivas) también influye en el rendimiento del modelo. Los bigramas y trigramas capturan más información contextual y relaciones entre palabras, lo que puede ser beneficioso en ciertos casos, como el análisis de texto más complejo. Sin embargo, esto también puede aumentar la dimensionalidad del espacio de características, lo que puede llevar a una mayor complejidad computacional y problemas de sobreajuste si no se tiene suficiente cantidad de datos. Por esta razon se podria estar presentando un peor rendimiento cuando se utiliza trigrama en CountVectorizer\n",
        "\n",
        "\n",
        "En resumen, el preprocesamiento del texto, incluida la selección de técnicas como TF-IDF versus CountVectorizer y la inclusión de unigramas, bigramas o trigramas, puede tener un impacto significativo en el rendimiento de los modelos de procesamiento de lenguaje natural. La elección de la técnica adecuada depende del conjunto de datos específico y del objetivo del análisis.\n"
      ]
    }
  ],
  "metadata": {
    "colab": {
      "provenance": []
    },
    "kernelspec": {
      "display_name": "Python 3",
      "language": "python",
      "name": "python3"
    },
    "language_info": {
      "codemirror_mode": {
        "name": "ipython",
        "version": 3
      },
      "file_extension": ".py",
      "mimetype": "text/x-python",
      "name": "python",
      "nbconvert_exporter": "python",
      "pygments_lexer": "ipython3",
      "version": "3.8.2"
    },
    "name": "_merged",
    "vscode": {
      "interpreter": {
        "hash": "31f2aee4e71d21fbe5cf8b01ff0e069b9275f58929596ceb00d14d90e3e16cd6"
      }
    }
  },
  "nbformat": 4,
  "nbformat_minor": 0
}
